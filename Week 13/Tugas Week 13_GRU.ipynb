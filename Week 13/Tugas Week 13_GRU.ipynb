{
 "cells": [
  {
   "cell_type": "markdown",
   "metadata": {},
   "source": [
    "# IMPORT LIBRARY"
   ]
  },
  {
   "cell_type": "code",
   "execution_count": 18,
   "metadata": {},
   "outputs": [],
   "source": [
    "import json\n",
    "\n",
    "import pandas as pd\n",
    "import numpy as np\n",
    "import plotly.express as px\n",
    "import tensorflow.keras.layers as L\n",
    "import tensorflow as tf\n",
    "from sklearn.model_selection import train_test_split"
   ]
  },
  {
   "cell_type": "markdown",
   "metadata": {},
   "source": [
    "# CODE"
   ]
  },
  {
   "cell_type": "code",
   "execution_count": 19,
   "metadata": {},
   "outputs": [],
   "source": [
    "tf.random.set_seed(2020)\n",
    "np.random.seed(2020)"
   ]
  },
  {
   "cell_type": "code",
   "execution_count": 20,
   "metadata": {},
   "outputs": [],
   "source": [
    "# This will tell us the columns we are predicting\n",
    "pred_cols = ['reactivity', 'deg_Mg_pH10', 'deg_Mg_50C', 'deg_pH10', 'deg_50C']"
   ]
  },
  {
   "cell_type": "code",
   "execution_count": 21,
   "metadata": {},
   "outputs": [],
   "source": [
    "y_true = tf.random.normal((32, 68, 3))\n",
    "y_pred = tf.random.normal((32, 68, 3))"
   ]
  },
  {
   "cell_type": "code",
   "execution_count": 22,
   "metadata": {},
   "outputs": [],
   "source": [
    "def MCRMSE(y_true, y_pred):\n",
    "    colwise_mse = tf.reduce_mean(tf.square(y_true - y_pred), axis=1)\n",
    "    return tf.reduce_mean(tf.sqrt(colwise_mse), axis=1)"
   ]
  },
  {
   "cell_type": "code",
   "execution_count": 23,
   "metadata": {},
   "outputs": [],
   "source": [
    "def gru_layer(hidden_dim, dropout):\n",
    "    return L.Bidirectional(L.GRU(\n",
    "        hidden_dim, dropout=dropout, return_sequences=True, kernel_initializer='orthogonal'))"
   ]
  },
  {
   "cell_type": "code",
   "execution_count": 24,
   "metadata": {},
   "outputs": [],
   "source": [
    "def build_model(embed_size, seq_len=107, pred_len=68, dropout=0.5, \n",
    "                sp_dropout=0.2, embed_dim=200, hidden_dim=256, n_layers=3):\n",
    "    inputs = L.Input(shape=(seq_len, 3))\n",
    "    embed = L.Embedding(input_dim=embed_size, output_dim=embed_dim)(inputs)\n",
    "    \n",
    "    reshaped = tf.reshape(\n",
    "        embed, shape=(-1, embed.shape[1],  embed.shape[2] * embed.shape[3])\n",
    "    )\n",
    "    hidden = L.SpatialDropout1D(sp_dropout)(reshaped)\n",
    "    \n",
    "    for x in range(n_layers):\n",
    "        hidden = gru_layer(hidden_dim, dropout)(hidden)\n",
    "    \n",
    "    # Since we are only making predictions on the first part of each sequence, \n",
    "    # we have to truncate it\n",
    "    truncated = hidden[:, :pred_len]\n",
    "    out = L.Dense(5, activation='linear')(truncated)\n",
    "    \n",
    "    model = tf.keras.Model(inputs=inputs, outputs=out)\n",
    "    model.compile(tf.optimizers.Adam(), loss=MCRMSE)\n",
    "    \n",
    "    return model"
   ]
  },
  {
   "cell_type": "code",
   "execution_count": 25,
   "metadata": {},
   "outputs": [],
   "source": [
    "def pandas_list_to_array(df):\n",
    "    \"\"\"\n",
    "    Input: dataframe of shape (x, y), containing list of length l\n",
    "    Return: np.array of shape (x, l, y)\n",
    "    \"\"\"\n",
    "    \n",
    "    return np.transpose(\n",
    "        np.array(df.values.tolist()),\n",
    "        (0, 2, 1)\n",
    "    )"
   ]
  },
  {
   "cell_type": "code",
   "execution_count": 26,
   "metadata": {},
   "outputs": [],
   "source": [
    "def preprocess_inputs(df, token2int, cols=['sequence', 'structure', 'predicted_loop_type']):\n",
    "    return pandas_list_to_array(\n",
    "        df[cols].applymap(lambda seq: [token2int[x] for x in seq])\n",
    "    )"
   ]
  },
  {
   "cell_type": "code",
   "execution_count": 27,
   "metadata": {},
   "outputs": [],
   "source": [
    "data_dir = 'dataset/'\n",
    "train = pd.read_json(data_dir + 'train.json', lines=True)\n",
    "test = pd.read_json(data_dir + 'test.json', lines=True)\n",
    "sample_df = pd.read_csv(data_dir + 'sample_submission.csv')"
   ]
  },
  {
   "cell_type": "code",
   "execution_count": 28,
   "metadata": {},
   "outputs": [],
   "source": [
    "train = train.query(\"signal_to_noise >= 1\")"
   ]
  },
  {
   "cell_type": "code",
   "execution_count": 29,
   "metadata": {},
   "outputs": [],
   "source": [
    "# We will use this dictionary to map each character to an integer\n",
    "# so that it can be used as an input in keras\n",
    "token2int = {x:i for i, x in enumerate('().ACGUBEHIMSX')}\n",
    "\n",
    "train_inputs = preprocess_inputs(train, token2int)\n",
    "train_labels = pandas_list_to_array(train[pred_cols])"
   ]
  },
  {
   "cell_type": "code",
   "execution_count": 30,
   "metadata": {},
   "outputs": [],
   "source": [
    "x_train, x_val, y_train, y_val = train_test_split(\n",
    "    train_inputs, train_labels, test_size=.1, random_state=34, stratify=train.SN_filter)"
   ]
  },
  {
   "cell_type": "code",
   "execution_count": 31,
   "metadata": {},
   "outputs": [],
   "source": [
    "public_df = test.query(\"seq_length == 107\")\n",
    "private_df = test.query(\"seq_length == 130\")\n",
    "\n",
    "public_inputs = preprocess_inputs(public_df, token2int)\n",
    "private_inputs = preprocess_inputs(private_df, token2int)"
   ]
  },
  {
   "cell_type": "code",
   "execution_count": 32,
   "metadata": {},
   "outputs": [
    {
     "name": "stdout",
     "output_type": "stream",
     "text": [
      "Model: \"model_1\"\n",
      "_________________________________________________________________\n",
      "Layer (type)                 Output Shape              Param #   \n",
      "=================================================================\n",
      "input_2 (InputLayer)         [(None, 107, 3)]          0         \n",
      "_________________________________________________________________\n",
      "embedding_1 (Embedding)      (None, 107, 3, 200)       2800      \n",
      "_________________________________________________________________\n",
      "tf.reshape_1 (TFOpLambda)    (None, 107, 600)          0         \n",
      "_________________________________________________________________\n",
      "spatial_dropout1d_1 (Spatial (None, 107, 600)          0         \n",
      "_________________________________________________________________\n",
      "bidirectional_3 (Bidirection (None, 107, 512)          1317888   \n",
      "_________________________________________________________________\n",
      "bidirectional_4 (Bidirection (None, 107, 512)          1182720   \n",
      "_________________________________________________________________\n",
      "bidirectional_5 (Bidirection (None, 107, 512)          1182720   \n",
      "_________________________________________________________________\n",
      "tf.__operators__.getitem_1 ( (None, 68, 512)           0         \n",
      "_________________________________________________________________\n",
      "dense_1 (Dense)              (None, 68, 5)             2565      \n",
      "=================================================================\n",
      "Total params: 3,688,693\n",
      "Trainable params: 3,688,693\n",
      "Non-trainable params: 0\n",
      "_________________________________________________________________\n"
     ]
    }
   ],
   "source": [
    "model = build_model(embed_size=len(token2int))\n",
    "model.summary()"
   ]
  },
  {
   "cell_type": "code",
   "execution_count": 33,
   "metadata": {},
   "outputs": [
    {
     "name": "stdout",
     "output_type": "stream",
     "text": [
      "Epoch 1/75\n",
      "30/30 - 166s - loss: 0.4564 - val_loss: 0.3878\n",
      "Epoch 2/75\n",
      "30/30 - 118s - loss: 0.3894 - val_loss: 0.3589\n",
      "Epoch 3/75\n",
      "30/30 - 133s - loss: 0.3632 - val_loss: 0.3428\n",
      "Epoch 4/75\n",
      "30/30 - 168s - loss: 0.3503 - val_loss: 0.3268\n",
      "Epoch 5/75\n",
      "30/30 - 178s - loss: 0.3392 - val_loss: 0.3210\n",
      "Epoch 6/75\n",
      "30/30 - 187s - loss: 0.3316 - val_loss: 0.3178\n",
      "Epoch 7/75\n",
      "30/30 - 186s - loss: 0.3245 - val_loss: 0.3170\n",
      "Epoch 8/75\n",
      "30/30 - 190s - loss: 0.3171 - val_loss: 0.3012\n",
      "Epoch 9/75\n",
      "30/30 - 189s - loss: 0.3096 - val_loss: 0.2959\n",
      "Epoch 10/75\n",
      "30/30 - 178s - loss: 0.3017 - val_loss: 0.2855\n",
      "Epoch 11/75\n",
      "30/30 - 191s - loss: 0.2937 - val_loss: 0.2824\n",
      "Epoch 12/75\n",
      "30/30 - 193s - loss: 0.2886 - val_loss: 0.2746\n",
      "Epoch 13/75\n",
      "30/30 - 198s - loss: 0.2815 - val_loss: 0.2701\n",
      "Epoch 14/75\n",
      "30/30 - 198s - loss: 0.2751 - val_loss: 0.2628\n",
      "Epoch 15/75\n",
      "30/30 - 196s - loss: 0.2684 - val_loss: 0.2567\n",
      "Epoch 16/75\n",
      "30/30 - 173s - loss: 0.2619 - val_loss: 0.2536\n",
      "Epoch 17/75\n",
      "30/30 - 181s - loss: 0.2592 - val_loss: 0.2575\n",
      "Epoch 18/75\n",
      "30/30 - 195s - loss: 0.2555 - val_loss: 0.2507\n",
      "Epoch 19/75\n",
      "30/30 - 199s - loss: 0.2523 - val_loss: 0.2492\n",
      "Epoch 20/75\n",
      "30/30 - 195s - loss: 0.2486 - val_loss: 0.2421\n",
      "Epoch 21/75\n",
      "30/30 - 200s - loss: 0.2439 - val_loss: 0.2429\n",
      "Epoch 22/75\n",
      "30/30 - 184s - loss: 0.2409 - val_loss: 0.2411\n",
      "Epoch 23/75\n",
      "30/30 - 188s - loss: 0.2394 - val_loss: 0.2415\n",
      "Epoch 24/75\n",
      "30/30 - 196s - loss: 0.2373 - val_loss: 0.2450\n",
      "Epoch 25/75\n",
      "30/30 - 197s - loss: 0.2364 - val_loss: 0.2374\n",
      "Epoch 26/75\n",
      "30/30 - 198s - loss: 0.2328 - val_loss: 0.2348\n",
      "Epoch 27/75\n",
      "30/30 - 200s - loss: 0.2300 - val_loss: 0.2364\n",
      "Epoch 28/75\n",
      "30/30 - 193s - loss: 0.2276 - val_loss: 0.2382\n",
      "Epoch 29/75\n",
      "30/30 - 167s - loss: 0.2270 - val_loss: 0.2341\n",
      "Epoch 30/75\n",
      "30/30 - 169s - loss: 0.2242 - val_loss: 0.2336\n",
      "Epoch 31/75\n",
      "30/30 - 168s - loss: 0.2236 - val_loss: 0.2330\n",
      "Epoch 32/75\n",
      "30/30 - 164s - loss: 0.2216 - val_loss: 0.2359\n",
      "Epoch 33/75\n",
      "30/30 - 163s - loss: 0.2198 - val_loss: 0.2305\n",
      "Epoch 34/75\n",
      "30/30 - 165s - loss: 0.2182 - val_loss: 0.2302\n",
      "Epoch 35/75\n",
      "30/30 - 163s - loss: 0.2159 - val_loss: 0.2289\n",
      "Epoch 36/75\n",
      "30/30 - 171s - loss: 0.2138 - val_loss: 0.2296\n",
      "Epoch 37/75\n",
      "30/30 - 195s - loss: 0.2133 - val_loss: 0.2273\n",
      "Epoch 38/75\n",
      "30/30 - 196s - loss: 0.2114 - val_loss: 0.2284\n",
      "Epoch 39/75\n",
      "30/30 - 199s - loss: 0.2099 - val_loss: 0.2278\n",
      "Epoch 40/75\n",
      "30/30 - 197s - loss: 0.2072 - val_loss: 0.2253\n",
      "Epoch 41/75\n",
      "30/30 - 197s - loss: 0.2065 - val_loss: 0.2272\n",
      "Epoch 42/75\n",
      "30/30 - 174s - loss: 0.2053 - val_loss: 0.2256\n",
      "Epoch 43/75\n",
      "30/30 - 190s - loss: 0.2047 - val_loss: 0.2253\n",
      "Epoch 44/75\n",
      "30/30 - 196s - loss: 0.2029 - val_loss: 0.2259\n",
      "Epoch 45/75\n",
      "30/30 - 197s - loss: 0.2025 - val_loss: 0.2264\n",
      "Epoch 46/75\n",
      "30/30 - 196s - loss: 0.1961 - val_loss: 0.2220\n",
      "Epoch 47/75\n",
      "30/30 - 200s - loss: 0.1943 - val_loss: 0.2222\n",
      "Epoch 48/75\n",
      "30/30 - 181s - loss: 0.1940 - val_loss: 0.2216\n",
      "Epoch 49/75\n",
      "30/30 - 184s - loss: 0.1935 - val_loss: 0.2217\n",
      "Epoch 50/75\n",
      "30/30 - 198s - loss: 0.1930 - val_loss: 0.2218\n",
      "Epoch 51/75\n",
      "30/30 - 198s - loss: 0.1927 - val_loss: 0.2210\n",
      "Epoch 52/75\n",
      "30/30 - 199s - loss: 0.1924 - val_loss: 0.2211\n",
      "Epoch 53/75\n",
      "30/30 - 200s - loss: 0.1926 - val_loss: 0.2216\n",
      "Epoch 54/75\n",
      "30/30 - 188s - loss: 0.1916 - val_loss: 0.2213\n",
      "Epoch 55/75\n",
      "30/30 - 172s - loss: 0.1915 - val_loss: 0.2214\n",
      "Epoch 56/75\n",
      "30/30 - 170s - loss: 0.1912 - val_loss: 0.2208\n",
      "Epoch 57/75\n",
      "30/30 - 168s - loss: 0.1910 - val_loss: 0.2209\n",
      "Epoch 58/75\n",
      "30/30 - 167s - loss: 0.1910 - val_loss: 0.2211\n",
      "Epoch 59/75\n",
      "30/30 - 172s - loss: 0.1910 - val_loss: 0.2211\n",
      "Epoch 60/75\n",
      "30/30 - 165s - loss: 0.1909 - val_loss: 0.2207\n",
      "Epoch 61/75\n",
      "30/30 - 162s - loss: 0.1903 - val_loss: 0.2214\n",
      "Epoch 62/75\n",
      "30/30 - 184s - loss: 0.1906 - val_loss: 0.2211\n",
      "Epoch 63/75\n",
      "30/30 - 194s - loss: 0.1898 - val_loss: 0.2207\n",
      "Epoch 64/75\n",
      "30/30 - 197s - loss: 0.1899 - val_loss: 0.2209\n",
      "Epoch 65/75\n",
      "30/30 - 197s - loss: 0.1897 - val_loss: 0.2211\n",
      "Epoch 66/75\n",
      "30/30 - 200s - loss: 0.1892 - val_loss: 0.2208\n",
      "Epoch 67/75\n",
      "30/30 - 197s - loss: 0.1889 - val_loss: 0.2206\n",
      "Epoch 68/75\n",
      "30/30 - 181s - loss: 0.1890 - val_loss: 0.2207\n",
      "Epoch 69/75\n",
      "30/30 - 196s - loss: 0.1892 - val_loss: 0.2206\n",
      "Epoch 70/75\n",
      "30/30 - 198s - loss: 0.1888 - val_loss: 0.2206\n",
      "Epoch 71/75\n",
      "30/30 - 200s - loss: 0.1889 - val_loss: 0.2206\n",
      "Epoch 72/75\n",
      "30/30 - 198s - loss: 0.1889 - val_loss: 0.2206\n",
      "Epoch 73/75\n",
      "30/30 - 195s - loss: 0.1889 - val_loss: 0.2206\n",
      "Epoch 74/75\n",
      "30/30 - 181s - loss: 0.1886 - val_loss: 0.2206\n",
      "Epoch 75/75\n",
      "30/30 - 199s - loss: 0.1890 - val_loss: 0.2206\n"
     ]
    }
   ],
   "source": [
    "history = model.fit(\n",
    "    x_train, y_train,\n",
    "    validation_data=(x_val, y_val),\n",
    "    batch_size=64,\n",
    "    epochs=75,\n",
    "    verbose=2,\n",
    "    callbacks=[\n",
    "        tf.keras.callbacks.ReduceLROnPlateau(patience=5),\n",
    "        tf.keras.callbacks.ModelCheckpoint('model.h5')\n",
    "    ]\n",
    ")"
   ]
  },
  {
   "cell_type": "code",
   "execution_count": 34,
   "metadata": {},
   "outputs": [
    {
     "data": {
      "application/vnd.plotly.v1+json": {
       "config": {
        "plotlyServerURL": "https://plot.ly"
       },
       "data": [
        {
         "hovertemplate": "variable=loss<br>epoch=%{x}<br>MCRMSE=%{y}<extra></extra>",
         "legendgroup": "loss",
         "line": {
          "color": "#636efa",
          "dash": "solid"
         },
         "marker": {
          "symbol": "circle"
         },
         "mode": "lines",
         "name": "loss",
         "orientation": "v",
         "showlegend": true,
         "type": "scatter",
         "x": [
          0,
          1,
          2,
          3,
          4,
          5,
          6,
          7,
          8,
          9,
          10,
          11,
          12,
          13,
          14,
          15,
          16,
          17,
          18,
          19,
          20,
          21,
          22,
          23,
          24,
          25,
          26,
          27,
          28,
          29,
          30,
          31,
          32,
          33,
          34,
          35,
          36,
          37,
          38,
          39,
          40,
          41,
          42,
          43,
          44,
          45,
          46,
          47,
          48,
          49,
          50,
          51,
          52,
          53,
          54,
          55,
          56,
          57,
          58,
          59,
          60,
          61,
          62,
          63,
          64,
          65,
          66,
          67,
          68,
          69,
          70,
          71,
          72,
          73,
          74
         ],
         "xaxis": "x",
         "y": [
          0.4564473330974579,
          0.3894478380680084,
          0.36320066452026367,
          0.35034966468811035,
          0.33923274278640747,
          0.33157676458358765,
          0.32453620433807373,
          0.31714126467704773,
          0.30963966250419617,
          0.30172401666641235,
          0.29373377561569214,
          0.2885623276233673,
          0.2815447151660919,
          0.2751399874687195,
          0.2683599591255188,
          0.26191338896751404,
          0.25915002822875977,
          0.2554885149002075,
          0.2523065209388733,
          0.2485673725605011,
          0.24392157793045044,
          0.2409246414899826,
          0.23944248259067535,
          0.23725031316280365,
          0.23642978072166443,
          0.23277951776981354,
          0.22999636828899384,
          0.22759032249450684,
          0.22697125375270844,
          0.22422721982002258,
          0.22362177073955536,
          0.22158870100975037,
          0.21976105868816376,
          0.21822018921375275,
          0.2159220576286316,
          0.2138250321149826,
          0.21330274641513824,
          0.21136152744293213,
          0.20989149808883667,
          0.20716850459575653,
          0.2065279185771942,
          0.20532627403736115,
          0.20470958948135376,
          0.2028723955154419,
          0.2025069296360016,
          0.19614475965499878,
          0.19432060420513153,
          0.19399778544902802,
          0.19350701570510864,
          0.19299378991127014,
          0.19268755614757538,
          0.1924031674861908,
          0.19255924224853516,
          0.19158783555030823,
          0.19146448373794556,
          0.1912294328212738,
          0.19098344445228577,
          0.19099801778793335,
          0.19101479649543762,
          0.19092461466789246,
          0.19026410579681396,
          0.19063091278076172,
          0.18984642624855042,
          0.18993540108203888,
          0.1896670162677765,
          0.18917769193649292,
          0.18888701498508453,
          0.18896205723285675,
          0.18924480676651,
          0.18883201479911804,
          0.18885749578475952,
          0.1889445036649704,
          0.1889374703168869,
          0.18863064050674438,
          0.18898367881774902
         ],
         "yaxis": "y"
        },
        {
         "hovertemplate": "variable=val_loss<br>epoch=%{x}<br>MCRMSE=%{y}<extra></extra>",
         "legendgroup": "val_loss",
         "line": {
          "color": "#EF553B",
          "dash": "solid"
         },
         "marker": {
          "symbol": "circle"
         },
         "mode": "lines",
         "name": "val_loss",
         "orientation": "v",
         "showlegend": true,
         "type": "scatter",
         "x": [
          0,
          1,
          2,
          3,
          4,
          5,
          6,
          7,
          8,
          9,
          10,
          11,
          12,
          13,
          14,
          15,
          16,
          17,
          18,
          19,
          20,
          21,
          22,
          23,
          24,
          25,
          26,
          27,
          28,
          29,
          30,
          31,
          32,
          33,
          34,
          35,
          36,
          37,
          38,
          39,
          40,
          41,
          42,
          43,
          44,
          45,
          46,
          47,
          48,
          49,
          50,
          51,
          52,
          53,
          54,
          55,
          56,
          57,
          58,
          59,
          60,
          61,
          62,
          63,
          64,
          65,
          66,
          67,
          68,
          69,
          70,
          71,
          72,
          73,
          74
         ],
         "xaxis": "x",
         "y": [
          0.38775384426116943,
          0.35888227820396423,
          0.3428318202495575,
          0.32682985067367554,
          0.320963978767395,
          0.3177887797355652,
          0.3170413076877594,
          0.3012270927429199,
          0.2959016263484955,
          0.285542368888855,
          0.2823867201805115,
          0.2746119797229767,
          0.270072877407074,
          0.26277583837509155,
          0.25672808289527893,
          0.25355732440948486,
          0.2575499713420868,
          0.2506522536277771,
          0.24918001890182495,
          0.24214008450508118,
          0.24292819201946259,
          0.24110518395900726,
          0.2414727658033371,
          0.24503356218338013,
          0.23743265867233276,
          0.2348427176475525,
          0.2363538295030594,
          0.23823176324367523,
          0.23413565754890442,
          0.23361548781394958,
          0.23299700021743774,
          0.23590819537639618,
          0.23052763938903809,
          0.23023580014705658,
          0.22892731428146362,
          0.22964343428611755,
          0.22727718949317932,
          0.22839662432670593,
          0.22776784002780914,
          0.22533294558525085,
          0.22719651460647583,
          0.22560164332389832,
          0.22531461715698242,
          0.22591060400009155,
          0.2264498621225357,
          0.22197604179382324,
          0.222236767411232,
          0.22157342731952667,
          0.22174136340618134,
          0.22184742987155914,
          0.22100339829921722,
          0.2210688441991806,
          0.22164809703826904,
          0.22127649188041687,
          0.22135646641254425,
          0.2208171784877777,
          0.22085121273994446,
          0.2210673689842224,
          0.2211238443851471,
          0.22067216038703918,
          0.22138355672359467,
          0.22114931046962738,
          0.22067680954933167,
          0.2209288775920868,
          0.22112132608890533,
          0.2208094447851181,
          0.22064465284347534,
          0.22071264684200287,
          0.2206244021654129,
          0.22058351337909698,
          0.22057898342609406,
          0.22056004405021667,
          0.22056369483470917,
          0.22056344151496887,
          0.22057901322841644
         ],
         "yaxis": "y"
        }
       ],
       "layout": {
        "legend": {
         "title": {
          "text": "variable"
         },
         "tracegroupgap": 0
        },
        "template": {
         "data": {
          "bar": [
           {
            "error_x": {
             "color": "#2a3f5f"
            },
            "error_y": {
             "color": "#2a3f5f"
            },
            "marker": {
             "line": {
              "color": "#E5ECF6",
              "width": 0.5
             },
             "pattern": {
              "fillmode": "overlay",
              "size": 10,
              "solidity": 0.2
             }
            },
            "type": "bar"
           }
          ],
          "barpolar": [
           {
            "marker": {
             "line": {
              "color": "#E5ECF6",
              "width": 0.5
             },
             "pattern": {
              "fillmode": "overlay",
              "size": 10,
              "solidity": 0.2
             }
            },
            "type": "barpolar"
           }
          ],
          "carpet": [
           {
            "aaxis": {
             "endlinecolor": "#2a3f5f",
             "gridcolor": "white",
             "linecolor": "white",
             "minorgridcolor": "white",
             "startlinecolor": "#2a3f5f"
            },
            "baxis": {
             "endlinecolor": "#2a3f5f",
             "gridcolor": "white",
             "linecolor": "white",
             "minorgridcolor": "white",
             "startlinecolor": "#2a3f5f"
            },
            "type": "carpet"
           }
          ],
          "choropleth": [
           {
            "colorbar": {
             "outlinewidth": 0,
             "ticks": ""
            },
            "type": "choropleth"
           }
          ],
          "contour": [
           {
            "colorbar": {
             "outlinewidth": 0,
             "ticks": ""
            },
            "colorscale": [
             [
              0,
              "#0d0887"
             ],
             [
              0.1111111111111111,
              "#46039f"
             ],
             [
              0.2222222222222222,
              "#7201a8"
             ],
             [
              0.3333333333333333,
              "#9c179e"
             ],
             [
              0.4444444444444444,
              "#bd3786"
             ],
             [
              0.5555555555555556,
              "#d8576b"
             ],
             [
              0.6666666666666666,
              "#ed7953"
             ],
             [
              0.7777777777777778,
              "#fb9f3a"
             ],
             [
              0.8888888888888888,
              "#fdca26"
             ],
             [
              1,
              "#f0f921"
             ]
            ],
            "type": "contour"
           }
          ],
          "contourcarpet": [
           {
            "colorbar": {
             "outlinewidth": 0,
             "ticks": ""
            },
            "type": "contourcarpet"
           }
          ],
          "heatmap": [
           {
            "colorbar": {
             "outlinewidth": 0,
             "ticks": ""
            },
            "colorscale": [
             [
              0,
              "#0d0887"
             ],
             [
              0.1111111111111111,
              "#46039f"
             ],
             [
              0.2222222222222222,
              "#7201a8"
             ],
             [
              0.3333333333333333,
              "#9c179e"
             ],
             [
              0.4444444444444444,
              "#bd3786"
             ],
             [
              0.5555555555555556,
              "#d8576b"
             ],
             [
              0.6666666666666666,
              "#ed7953"
             ],
             [
              0.7777777777777778,
              "#fb9f3a"
             ],
             [
              0.8888888888888888,
              "#fdca26"
             ],
             [
              1,
              "#f0f921"
             ]
            ],
            "type": "heatmap"
           }
          ],
          "heatmapgl": [
           {
            "colorbar": {
             "outlinewidth": 0,
             "ticks": ""
            },
            "colorscale": [
             [
              0,
              "#0d0887"
             ],
             [
              0.1111111111111111,
              "#46039f"
             ],
             [
              0.2222222222222222,
              "#7201a8"
             ],
             [
              0.3333333333333333,
              "#9c179e"
             ],
             [
              0.4444444444444444,
              "#bd3786"
             ],
             [
              0.5555555555555556,
              "#d8576b"
             ],
             [
              0.6666666666666666,
              "#ed7953"
             ],
             [
              0.7777777777777778,
              "#fb9f3a"
             ],
             [
              0.8888888888888888,
              "#fdca26"
             ],
             [
              1,
              "#f0f921"
             ]
            ],
            "type": "heatmapgl"
           }
          ],
          "histogram": [
           {
            "marker": {
             "pattern": {
              "fillmode": "overlay",
              "size": 10,
              "solidity": 0.2
             }
            },
            "type": "histogram"
           }
          ],
          "histogram2d": [
           {
            "colorbar": {
             "outlinewidth": 0,
             "ticks": ""
            },
            "colorscale": [
             [
              0,
              "#0d0887"
             ],
             [
              0.1111111111111111,
              "#46039f"
             ],
             [
              0.2222222222222222,
              "#7201a8"
             ],
             [
              0.3333333333333333,
              "#9c179e"
             ],
             [
              0.4444444444444444,
              "#bd3786"
             ],
             [
              0.5555555555555556,
              "#d8576b"
             ],
             [
              0.6666666666666666,
              "#ed7953"
             ],
             [
              0.7777777777777778,
              "#fb9f3a"
             ],
             [
              0.8888888888888888,
              "#fdca26"
             ],
             [
              1,
              "#f0f921"
             ]
            ],
            "type": "histogram2d"
           }
          ],
          "histogram2dcontour": [
           {
            "colorbar": {
             "outlinewidth": 0,
             "ticks": ""
            },
            "colorscale": [
             [
              0,
              "#0d0887"
             ],
             [
              0.1111111111111111,
              "#46039f"
             ],
             [
              0.2222222222222222,
              "#7201a8"
             ],
             [
              0.3333333333333333,
              "#9c179e"
             ],
             [
              0.4444444444444444,
              "#bd3786"
             ],
             [
              0.5555555555555556,
              "#d8576b"
             ],
             [
              0.6666666666666666,
              "#ed7953"
             ],
             [
              0.7777777777777778,
              "#fb9f3a"
             ],
             [
              0.8888888888888888,
              "#fdca26"
             ],
             [
              1,
              "#f0f921"
             ]
            ],
            "type": "histogram2dcontour"
           }
          ],
          "mesh3d": [
           {
            "colorbar": {
             "outlinewidth": 0,
             "ticks": ""
            },
            "type": "mesh3d"
           }
          ],
          "parcoords": [
           {
            "line": {
             "colorbar": {
              "outlinewidth": 0,
              "ticks": ""
             }
            },
            "type": "parcoords"
           }
          ],
          "pie": [
           {
            "automargin": true,
            "type": "pie"
           }
          ],
          "scatter": [
           {
            "marker": {
             "colorbar": {
              "outlinewidth": 0,
              "ticks": ""
             }
            },
            "type": "scatter"
           }
          ],
          "scatter3d": [
           {
            "line": {
             "colorbar": {
              "outlinewidth": 0,
              "ticks": ""
             }
            },
            "marker": {
             "colorbar": {
              "outlinewidth": 0,
              "ticks": ""
             }
            },
            "type": "scatter3d"
           }
          ],
          "scattercarpet": [
           {
            "marker": {
             "colorbar": {
              "outlinewidth": 0,
              "ticks": ""
             }
            },
            "type": "scattercarpet"
           }
          ],
          "scattergeo": [
           {
            "marker": {
             "colorbar": {
              "outlinewidth": 0,
              "ticks": ""
             }
            },
            "type": "scattergeo"
           }
          ],
          "scattergl": [
           {
            "marker": {
             "colorbar": {
              "outlinewidth": 0,
              "ticks": ""
             }
            },
            "type": "scattergl"
           }
          ],
          "scattermapbox": [
           {
            "marker": {
             "colorbar": {
              "outlinewidth": 0,
              "ticks": ""
             }
            },
            "type": "scattermapbox"
           }
          ],
          "scatterpolar": [
           {
            "marker": {
             "colorbar": {
              "outlinewidth": 0,
              "ticks": ""
             }
            },
            "type": "scatterpolar"
           }
          ],
          "scatterpolargl": [
           {
            "marker": {
             "colorbar": {
              "outlinewidth": 0,
              "ticks": ""
             }
            },
            "type": "scatterpolargl"
           }
          ],
          "scatterternary": [
           {
            "marker": {
             "colorbar": {
              "outlinewidth": 0,
              "ticks": ""
             }
            },
            "type": "scatterternary"
           }
          ],
          "surface": [
           {
            "colorbar": {
             "outlinewidth": 0,
             "ticks": ""
            },
            "colorscale": [
             [
              0,
              "#0d0887"
             ],
             [
              0.1111111111111111,
              "#46039f"
             ],
             [
              0.2222222222222222,
              "#7201a8"
             ],
             [
              0.3333333333333333,
              "#9c179e"
             ],
             [
              0.4444444444444444,
              "#bd3786"
             ],
             [
              0.5555555555555556,
              "#d8576b"
             ],
             [
              0.6666666666666666,
              "#ed7953"
             ],
             [
              0.7777777777777778,
              "#fb9f3a"
             ],
             [
              0.8888888888888888,
              "#fdca26"
             ],
             [
              1,
              "#f0f921"
             ]
            ],
            "type": "surface"
           }
          ],
          "table": [
           {
            "cells": {
             "fill": {
              "color": "#EBF0F8"
             },
             "line": {
              "color": "white"
             }
            },
            "header": {
             "fill": {
              "color": "#C8D4E3"
             },
             "line": {
              "color": "white"
             }
            },
            "type": "table"
           }
          ]
         },
         "layout": {
          "annotationdefaults": {
           "arrowcolor": "#2a3f5f",
           "arrowhead": 0,
           "arrowwidth": 1
          },
          "autotypenumbers": "strict",
          "coloraxis": {
           "colorbar": {
            "outlinewidth": 0,
            "ticks": ""
           }
          },
          "colorscale": {
           "diverging": [
            [
             0,
             "#8e0152"
            ],
            [
             0.1,
             "#c51b7d"
            ],
            [
             0.2,
             "#de77ae"
            ],
            [
             0.3,
             "#f1b6da"
            ],
            [
             0.4,
             "#fde0ef"
            ],
            [
             0.5,
             "#f7f7f7"
            ],
            [
             0.6,
             "#e6f5d0"
            ],
            [
             0.7,
             "#b8e186"
            ],
            [
             0.8,
             "#7fbc41"
            ],
            [
             0.9,
             "#4d9221"
            ],
            [
             1,
             "#276419"
            ]
           ],
           "sequential": [
            [
             0,
             "#0d0887"
            ],
            [
             0.1111111111111111,
             "#46039f"
            ],
            [
             0.2222222222222222,
             "#7201a8"
            ],
            [
             0.3333333333333333,
             "#9c179e"
            ],
            [
             0.4444444444444444,
             "#bd3786"
            ],
            [
             0.5555555555555556,
             "#d8576b"
            ],
            [
             0.6666666666666666,
             "#ed7953"
            ],
            [
             0.7777777777777778,
             "#fb9f3a"
            ],
            [
             0.8888888888888888,
             "#fdca26"
            ],
            [
             1,
             "#f0f921"
            ]
           ],
           "sequentialminus": [
            [
             0,
             "#0d0887"
            ],
            [
             0.1111111111111111,
             "#46039f"
            ],
            [
             0.2222222222222222,
             "#7201a8"
            ],
            [
             0.3333333333333333,
             "#9c179e"
            ],
            [
             0.4444444444444444,
             "#bd3786"
            ],
            [
             0.5555555555555556,
             "#d8576b"
            ],
            [
             0.6666666666666666,
             "#ed7953"
            ],
            [
             0.7777777777777778,
             "#fb9f3a"
            ],
            [
             0.8888888888888888,
             "#fdca26"
            ],
            [
             1,
             "#f0f921"
            ]
           ]
          },
          "colorway": [
           "#636efa",
           "#EF553B",
           "#00cc96",
           "#ab63fa",
           "#FFA15A",
           "#19d3f3",
           "#FF6692",
           "#B6E880",
           "#FF97FF",
           "#FECB52"
          ],
          "font": {
           "color": "#2a3f5f"
          },
          "geo": {
           "bgcolor": "white",
           "lakecolor": "white",
           "landcolor": "#E5ECF6",
           "showlakes": true,
           "showland": true,
           "subunitcolor": "white"
          },
          "hoverlabel": {
           "align": "left"
          },
          "hovermode": "closest",
          "mapbox": {
           "style": "light"
          },
          "paper_bgcolor": "white",
          "plot_bgcolor": "#E5ECF6",
          "polar": {
           "angularaxis": {
            "gridcolor": "white",
            "linecolor": "white",
            "ticks": ""
           },
           "bgcolor": "#E5ECF6",
           "radialaxis": {
            "gridcolor": "white",
            "linecolor": "white",
            "ticks": ""
           }
          },
          "scene": {
           "xaxis": {
            "backgroundcolor": "#E5ECF6",
            "gridcolor": "white",
            "gridwidth": 2,
            "linecolor": "white",
            "showbackground": true,
            "ticks": "",
            "zerolinecolor": "white"
           },
           "yaxis": {
            "backgroundcolor": "#E5ECF6",
            "gridcolor": "white",
            "gridwidth": 2,
            "linecolor": "white",
            "showbackground": true,
            "ticks": "",
            "zerolinecolor": "white"
           },
           "zaxis": {
            "backgroundcolor": "#E5ECF6",
            "gridcolor": "white",
            "gridwidth": 2,
            "linecolor": "white",
            "showbackground": true,
            "ticks": "",
            "zerolinecolor": "white"
           }
          },
          "shapedefaults": {
           "line": {
            "color": "#2a3f5f"
           }
          },
          "ternary": {
           "aaxis": {
            "gridcolor": "white",
            "linecolor": "white",
            "ticks": ""
           },
           "baxis": {
            "gridcolor": "white",
            "linecolor": "white",
            "ticks": ""
           },
           "bgcolor": "#E5ECF6",
           "caxis": {
            "gridcolor": "white",
            "linecolor": "white",
            "ticks": ""
           }
          },
          "title": {
           "x": 0.05
          },
          "xaxis": {
           "automargin": true,
           "gridcolor": "white",
           "linecolor": "white",
           "ticks": "",
           "title": {
            "standoff": 15
           },
           "zerolinecolor": "white",
           "zerolinewidth": 2
          },
          "yaxis": {
           "automargin": true,
           "gridcolor": "white",
           "linecolor": "white",
           "ticks": "",
           "title": {
            "standoff": 15
           },
           "zerolinecolor": "white",
           "zerolinewidth": 2
          }
         }
        },
        "title": {
         "text": "Training History"
        },
        "xaxis": {
         "anchor": "y",
         "domain": [
          0,
          1
         ],
         "title": {
          "text": "epoch"
         }
        },
        "yaxis": {
         "anchor": "x",
         "domain": [
          0,
          1
         ],
         "title": {
          "text": "MCRMSE"
         }
        }
       }
      }
     },
     "metadata": {},
     "output_type": "display_data"
    }
   ],
   "source": [
    "fig = px.line(\n",
    "    history.history, y=['loss', 'val_loss'],\n",
    "    labels={'index': 'epoch', 'value': 'MCRMSE'}, \n",
    "    title='Training History')\n",
    "fig.show()"
   ]
  },
  {
   "cell_type": "code",
   "execution_count": 35,
   "metadata": {},
   "outputs": [],
   "source": [
    "# Caveat: The prediction format requires the output to be the same length as the input,\n",
    "# although it's not the case for the training data.\n",
    "model_public = build_model(seq_len=107, pred_len=107, embed_size=len(token2int))\n",
    "model_private = build_model(seq_len=130, pred_len=130, embed_size=len(token2int))\n",
    "\n",
    "model_public.load_weights('model.h5')\n",
    "model_private.load_weights('model.h5')"
   ]
  },
  {
   "cell_type": "code",
   "execution_count": 36,
   "metadata": {},
   "outputs": [],
   "source": [
    "public_preds = model_public.predict(public_inputs)\n",
    "private_preds = model_private.predict(private_inputs)"
   ]
  },
  {
   "cell_type": "code",
   "execution_count": 37,
   "metadata": {},
   "outputs": [
    {
     "data": {
      "text/html": [
       "<div>\n",
       "<style scoped>\n",
       "    .dataframe tbody tr th:only-of-type {\n",
       "        vertical-align: middle;\n",
       "    }\n",
       "\n",
       "    .dataframe tbody tr th {\n",
       "        vertical-align: top;\n",
       "    }\n",
       "\n",
       "    .dataframe thead th {\n",
       "        text-align: right;\n",
       "    }\n",
       "</style>\n",
       "<table border=\"1\" class=\"dataframe\">\n",
       "  <thead>\n",
       "    <tr style=\"text-align: right;\">\n",
       "      <th></th>\n",
       "      <th>reactivity</th>\n",
       "      <th>deg_Mg_pH10</th>\n",
       "      <th>deg_Mg_50C</th>\n",
       "      <th>deg_pH10</th>\n",
       "      <th>deg_50C</th>\n",
       "      <th>id_seqpos</th>\n",
       "    </tr>\n",
       "  </thead>\n",
       "  <tbody>\n",
       "    <tr>\n",
       "      <th>0</th>\n",
       "      <td>0.639359</td>\n",
       "      <td>0.623360</td>\n",
       "      <td>0.535205</td>\n",
       "      <td>2.100565</td>\n",
       "      <td>0.778556</td>\n",
       "      <td>id_00073f8be_0</td>\n",
       "    </tr>\n",
       "    <tr>\n",
       "      <th>1</th>\n",
       "      <td>1.977642</td>\n",
       "      <td>2.882958</td>\n",
       "      <td>3.149884</td>\n",
       "      <td>4.095637</td>\n",
       "      <td>2.873847</td>\n",
       "      <td>id_00073f8be_1</td>\n",
       "    </tr>\n",
       "    <tr>\n",
       "      <th>2</th>\n",
       "      <td>1.472459</td>\n",
       "      <td>0.582111</td>\n",
       "      <td>0.627631</td>\n",
       "      <td>0.603840</td>\n",
       "      <td>0.689328</td>\n",
       "      <td>id_00073f8be_2</td>\n",
       "    </tr>\n",
       "    <tr>\n",
       "      <th>3</th>\n",
       "      <td>1.277874</td>\n",
       "      <td>1.155778</td>\n",
       "      <td>1.657048</td>\n",
       "      <td>1.201191</td>\n",
       "      <td>1.790207</td>\n",
       "      <td>id_00073f8be_3</td>\n",
       "    </tr>\n",
       "    <tr>\n",
       "      <th>4</th>\n",
       "      <td>0.842316</td>\n",
       "      <td>0.661764</td>\n",
       "      <td>0.878112</td>\n",
       "      <td>0.564686</td>\n",
       "      <td>0.913110</td>\n",
       "      <td>id_00073f8be_4</td>\n",
       "    </tr>\n",
       "  </tbody>\n",
       "</table>\n",
       "</div>"
      ],
      "text/plain": [
       "   reactivity  deg_Mg_pH10  deg_Mg_50C  deg_pH10   deg_50C       id_seqpos\n",
       "0    0.639359     0.623360    0.535205  2.100565  0.778556  id_00073f8be_0\n",
       "1    1.977642     2.882958    3.149884  4.095637  2.873847  id_00073f8be_1\n",
       "2    1.472459     0.582111    0.627631  0.603840  0.689328  id_00073f8be_2\n",
       "3    1.277874     1.155778    1.657048  1.201191  1.790207  id_00073f8be_3\n",
       "4    0.842316     0.661764    0.878112  0.564686  0.913110  id_00073f8be_4"
      ]
     },
     "execution_count": 37,
     "metadata": {},
     "output_type": "execute_result"
    }
   ],
   "source": [
    "preds_ls = []\n",
    "\n",
    "for df, preds in [(public_df, public_preds), (private_df, private_preds)]:\n",
    "    for i, uid in enumerate(df.id):\n",
    "        single_pred = preds[i]\n",
    "\n",
    "        single_df = pd.DataFrame(single_pred, columns=pred_cols)\n",
    "        single_df['id_seqpos'] = [f'{uid}_{x}' for x in range(single_df.shape[0])]\n",
    "\n",
    "        preds_ls.append(single_df)\n",
    "\n",
    "preds_df = pd.concat(preds_ls)\n",
    "preds_df.head()"
   ]
  },
  {
   "cell_type": "code",
   "execution_count": 38,
   "metadata": {},
   "outputs": [],
   "source": [
    "submission = sample_df[['id_seqpos']].merge(preds_df, on=['id_seqpos'])\n",
    "submission.to_csv('submission.csv', index=False)"
   ]
  }
 ],
 "metadata": {
  "interpreter": {
   "hash": "d6f86c6bc9c9469b2c84cfe0cb33110478d210a1f255f386dfb189826f594413"
  },
  "kernelspec": {
   "display_name": "Python 3.7.11 64-bit ('machinelearning': conda)",
   "language": "python",
   "name": "python3"
  },
  "language_info": {
   "codemirror_mode": {
    "name": "ipython",
    "version": 3
   },
   "file_extension": ".py",
   "mimetype": "text/x-python",
   "name": "python",
   "nbconvert_exporter": "python",
   "pygments_lexer": "ipython3",
   "version": "3.7.11"
  },
  "orig_nbformat": 4
 },
 "nbformat": 4,
 "nbformat_minor": 2
}
