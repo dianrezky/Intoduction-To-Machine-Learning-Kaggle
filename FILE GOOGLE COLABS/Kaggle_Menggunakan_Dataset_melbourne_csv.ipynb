{
  "nbformat": 4,
  "nbformat_minor": 0,
  "metadata": {
    "colab": {
      "name": " Kaggle Menggunakan Dataset melbourne csv.ipynb",
      "provenance": [],
      "collapsed_sections": []
    },
    "kernelspec": {
      "name": "python3",
      "display_name": "Python 3"
    },
    "language_info": {
      "name": "python"
    }
  },
  "cells": [
    {
      "cell_type": "code",
      "metadata": {
        "id": "Syu9DNbFrag9"
      },
      "source": [
        "#import library\n",
        "\n",
        "import pandas as pd\n",
        "from datetime import datetime\n",
        "import numpy as np\n",
        "from sklearn.tree import DecisionTreeRegressor\n",
        "from sklearn.model_selection import train_test_split as train\n",
        "from sklearn.metrics import mean_absolute_error as mae"
      ],
      "execution_count": 1,
      "outputs": []
    },
    {
      "cell_type": "code",
      "metadata": {
        "colab": {
          "base_uri": "https://localhost:8080/"
        },
        "id": "CMQYJsuTxqL0",
        "outputId": "15a3ded4-841e-457c-eeab-0d8735a7fb1f"
      },
      "source": [
        "#connect to google drive\n",
        "\n",
        "from google.colab import drive\n",
        "drive.mount('/content/gdrive')"
      ],
      "execution_count": 2,
      "outputs": [
        {
          "output_type": "stream",
          "name": "stdout",
          "text": [
            "Mounted at /content/gdrive\n"
          ]
        }
      ]
    },
    {
      "cell_type": "code",
      "metadata": {
        "colab": {
          "base_uri": "https://localhost:8080/",
          "height": 320
        },
        "id": "Ol5IRhEZr9Vc",
        "outputId": "3cf0f5bf-dc5e-4817-fd12-ef3051587e35"
      },
      "source": [
        "# Lokasi File untuk dibaca\n",
        "home_file_data = 'gdrive/My Drive/dataset/melb_data.csv'\n",
        "\n",
        "#Membaca Data ke variable home_data\n",
        "home_data = pd.read_csv(home_file_data)\n",
        "\n",
        "#Menunjukkan rangkuman statistik seperti rata-rata, median, dll pada kolom.\n",
        "home_data.describe()"
      ],
      "execution_count": 3,
      "outputs": [
        {
          "output_type": "execute_result",
          "data": {
            "text/html": [
              "<div>\n",
              "<style scoped>\n",
              "    .dataframe tbody tr th:only-of-type {\n",
              "        vertical-align: middle;\n",
              "    }\n",
              "\n",
              "    .dataframe tbody tr th {\n",
              "        vertical-align: top;\n",
              "    }\n",
              "\n",
              "    .dataframe thead th {\n",
              "        text-align: right;\n",
              "    }\n",
              "</style>\n",
              "<table border=\"1\" class=\"dataframe\">\n",
              "  <thead>\n",
              "    <tr style=\"text-align: right;\">\n",
              "      <th></th>\n",
              "      <th>Rooms</th>\n",
              "      <th>Price</th>\n",
              "      <th>Distance</th>\n",
              "      <th>Postcode</th>\n",
              "      <th>Bedroom2</th>\n",
              "      <th>Bathroom</th>\n",
              "      <th>Car</th>\n",
              "      <th>Landsize</th>\n",
              "      <th>BuildingArea</th>\n",
              "      <th>YearBuilt</th>\n",
              "      <th>Lattitude</th>\n",
              "      <th>Longtitude</th>\n",
              "      <th>Propertycount</th>\n",
              "    </tr>\n",
              "  </thead>\n",
              "  <tbody>\n",
              "    <tr>\n",
              "      <th>count</th>\n",
              "      <td>13580.000000</td>\n",
              "      <td>1.358000e+04</td>\n",
              "      <td>13580.000000</td>\n",
              "      <td>13580.000000</td>\n",
              "      <td>13580.000000</td>\n",
              "      <td>13580.000000</td>\n",
              "      <td>13518.000000</td>\n",
              "      <td>13580.000000</td>\n",
              "      <td>7130.000000</td>\n",
              "      <td>8205.000000</td>\n",
              "      <td>13580.000000</td>\n",
              "      <td>13580.000000</td>\n",
              "      <td>13580.000000</td>\n",
              "    </tr>\n",
              "    <tr>\n",
              "      <th>mean</th>\n",
              "      <td>2.937997</td>\n",
              "      <td>1.075684e+06</td>\n",
              "      <td>10.137776</td>\n",
              "      <td>3105.301915</td>\n",
              "      <td>2.914728</td>\n",
              "      <td>1.534242</td>\n",
              "      <td>1.610075</td>\n",
              "      <td>558.416127</td>\n",
              "      <td>151.967650</td>\n",
              "      <td>1964.684217</td>\n",
              "      <td>-37.809203</td>\n",
              "      <td>144.995216</td>\n",
              "      <td>7454.417378</td>\n",
              "    </tr>\n",
              "    <tr>\n",
              "      <th>std</th>\n",
              "      <td>0.955748</td>\n",
              "      <td>6.393107e+05</td>\n",
              "      <td>5.868725</td>\n",
              "      <td>90.676964</td>\n",
              "      <td>0.965921</td>\n",
              "      <td>0.691712</td>\n",
              "      <td>0.962634</td>\n",
              "      <td>3990.669241</td>\n",
              "      <td>541.014538</td>\n",
              "      <td>37.273762</td>\n",
              "      <td>0.079260</td>\n",
              "      <td>0.103916</td>\n",
              "      <td>4378.581772</td>\n",
              "    </tr>\n",
              "    <tr>\n",
              "      <th>min</th>\n",
              "      <td>1.000000</td>\n",
              "      <td>8.500000e+04</td>\n",
              "      <td>0.000000</td>\n",
              "      <td>3000.000000</td>\n",
              "      <td>0.000000</td>\n",
              "      <td>0.000000</td>\n",
              "      <td>0.000000</td>\n",
              "      <td>0.000000</td>\n",
              "      <td>0.000000</td>\n",
              "      <td>1196.000000</td>\n",
              "      <td>-38.182550</td>\n",
              "      <td>144.431810</td>\n",
              "      <td>249.000000</td>\n",
              "    </tr>\n",
              "    <tr>\n",
              "      <th>25%</th>\n",
              "      <td>2.000000</td>\n",
              "      <td>6.500000e+05</td>\n",
              "      <td>6.100000</td>\n",
              "      <td>3044.000000</td>\n",
              "      <td>2.000000</td>\n",
              "      <td>1.000000</td>\n",
              "      <td>1.000000</td>\n",
              "      <td>177.000000</td>\n",
              "      <td>93.000000</td>\n",
              "      <td>1940.000000</td>\n",
              "      <td>-37.856822</td>\n",
              "      <td>144.929600</td>\n",
              "      <td>4380.000000</td>\n",
              "    </tr>\n",
              "    <tr>\n",
              "      <th>50%</th>\n",
              "      <td>3.000000</td>\n",
              "      <td>9.030000e+05</td>\n",
              "      <td>9.200000</td>\n",
              "      <td>3084.000000</td>\n",
              "      <td>3.000000</td>\n",
              "      <td>1.000000</td>\n",
              "      <td>2.000000</td>\n",
              "      <td>440.000000</td>\n",
              "      <td>126.000000</td>\n",
              "      <td>1970.000000</td>\n",
              "      <td>-37.802355</td>\n",
              "      <td>145.000100</td>\n",
              "      <td>6555.000000</td>\n",
              "    </tr>\n",
              "    <tr>\n",
              "      <th>75%</th>\n",
              "      <td>3.000000</td>\n",
              "      <td>1.330000e+06</td>\n",
              "      <td>13.000000</td>\n",
              "      <td>3148.000000</td>\n",
              "      <td>3.000000</td>\n",
              "      <td>2.000000</td>\n",
              "      <td>2.000000</td>\n",
              "      <td>651.000000</td>\n",
              "      <td>174.000000</td>\n",
              "      <td>1999.000000</td>\n",
              "      <td>-37.756400</td>\n",
              "      <td>145.058305</td>\n",
              "      <td>10331.000000</td>\n",
              "    </tr>\n",
              "    <tr>\n",
              "      <th>max</th>\n",
              "      <td>10.000000</td>\n",
              "      <td>9.000000e+06</td>\n",
              "      <td>48.100000</td>\n",
              "      <td>3977.000000</td>\n",
              "      <td>20.000000</td>\n",
              "      <td>8.000000</td>\n",
              "      <td>10.000000</td>\n",
              "      <td>433014.000000</td>\n",
              "      <td>44515.000000</td>\n",
              "      <td>2018.000000</td>\n",
              "      <td>-37.408530</td>\n",
              "      <td>145.526350</td>\n",
              "      <td>21650.000000</td>\n",
              "    </tr>\n",
              "  </tbody>\n",
              "</table>\n",
              "</div>"
            ],
            "text/plain": [
              "              Rooms         Price  ...    Longtitude  Propertycount\n",
              "count  13580.000000  1.358000e+04  ...  13580.000000   13580.000000\n",
              "mean       2.937997  1.075684e+06  ...    144.995216    7454.417378\n",
              "std        0.955748  6.393107e+05  ...      0.103916    4378.581772\n",
              "min        1.000000  8.500000e+04  ...    144.431810     249.000000\n",
              "25%        2.000000  6.500000e+05  ...    144.929600    4380.000000\n",
              "50%        3.000000  9.030000e+05  ...    145.000100    6555.000000\n",
              "75%        3.000000  1.330000e+06  ...    145.058305   10331.000000\n",
              "max       10.000000  9.000000e+06  ...    145.526350   21650.000000\n",
              "\n",
              "[8 rows x 13 columns]"
            ]
          },
          "metadata": {},
          "execution_count": 3
        }
      ]
    },
    {
      "cell_type": "code",
      "metadata": {
        "colab": {
          "base_uri": "https://localhost:8080/"
        },
        "id": "zUtufGxDuOQe",
        "outputId": "b925881e-e5d4-4db3-9696-d269b1826bc7"
      },
      "source": [
        "#membuang column yang nan\n",
        "home_data = home_data.dropna(axis=0)\n",
        "\n",
        "#mencari rata rata dari lotsize\n",
        "\n",
        "avg_lot_size = round(home_data['Landsize'].mean()) #fungsi round untuk pembulatan\n",
        "print(\"Rata - Rata Land Size : \", avg_lot_size)\n",
        "\n",
        "#berdasarkan hari ini, berapa umur dari rumah yang paling terbaru (tahun sekarang - tahun pembuatan)\n",
        "sekarang = datetime.now()\n",
        "tahun = sekarang.year\n",
        "\n",
        "newest_home_year = round(home_data['YearBuilt'].max())\n",
        "newest_home_age = tahun-newest_home_year \n",
        "\n",
        "print(\"Umur rumah paling terbaru pada saat ini yaitu : \",newest_home_age, \"tahun\")\n"
      ],
      "execution_count": 7,
      "outputs": [
        {
          "output_type": "stream",
          "name": "stdout",
          "text": [
            "Rata - Rata Land Size :  471\n",
            "Umur rumah paling terbaru pada saat ini yaitu :  3 tahun\n"
          ]
        }
      ]
    },
    {
      "cell_type": "code",
      "metadata": {
        "colab": {
          "base_uri": "https://localhost:8080/"
        },
        "id": "lzDWKeElwHlj",
        "outputId": "da71bbec-7ef7-46a3-aeea-db853c1acbf7"
      },
      "source": [
        "# melihat list column yang ada di dalam dataset \n",
        "\n",
        "print(\"List Column Ada Di Dataset\")\n",
        "print(home_data.columns)\n",
        "\n",
        "#memilih column Price\n",
        "\n",
        "Y = home_data.Price\n",
        "\n",
        "#membuat list dari feature \n",
        "feature_names = ['Rooms', 'Bedroom2', 'Landsize', 'Bathroom', 'BuildingArea', 'Longtitude', 'Lattitude']\n",
        "\n",
        "#mendefinisikan feature_names untuk menjai variabel X yang memegang fitur prediktif\n",
        "X = home_data[feature_names]\n",
        "\n",
        "#Menunjukkan rangkuman statistik seperti rata-rata, median, dll pada kolom.\n",
        "print(X.describe())\n",
        "\n",
        "#cetak beberapa baris teratas\n",
        "print(\"Baris Teratas : \\n\")\n",
        "print(X.head())\n",
        "print(\"\\nBaris Terbawah : \\n\")\n",
        "print(X.tail())"
      ],
      "execution_count": 11,
      "outputs": [
        {
          "output_type": "stream",
          "name": "stdout",
          "text": [
            "List Column Ada Di Dataset\n",
            "Index(['Suburb', 'Address', 'Rooms', 'Type', 'Price', 'Method', 'SellerG',\n",
            "       'Date', 'Distance', 'Postcode', 'Bedroom2', 'Bathroom', 'Car',\n",
            "       'Landsize', 'BuildingArea', 'YearBuilt', 'CouncilArea', 'Lattitude',\n",
            "       'Longtitude', 'Regionname', 'Propertycount'],\n",
            "      dtype='object')\n",
            "             Rooms     Bedroom2  ...   Longtitude    Lattitude\n",
            "count  6196.000000  6196.000000  ...  6196.000000  6196.000000\n",
            "mean      2.931407     2.902034  ...   144.990201   -37.807904\n",
            "std       0.971079     0.970055  ...     0.099165     0.075850\n",
            "min       1.000000     0.000000  ...   144.542370   -38.164920\n",
            "25%       2.000000     2.000000  ...   144.926198   -37.855438\n",
            "50%       3.000000     3.000000  ...   144.995800   -37.802250\n",
            "75%       4.000000     3.000000  ...   145.052700   -37.758200\n",
            "max       8.000000     9.000000  ...   145.526350   -37.457090\n",
            "\n",
            "[8 rows x 7 columns]\n",
            "Baris Teratas : \n",
            "\n",
            "   Rooms  Bedroom2  Landsize  Bathroom  BuildingArea  Longtitude  Lattitude\n",
            "1      2       2.0     156.0       1.0          79.0    144.9934   -37.8079\n",
            "2      3       3.0     134.0       2.0         150.0    144.9944   -37.8093\n",
            "4      4       3.0     120.0       1.0         142.0    144.9941   -37.8072\n",
            "6      3       4.0     245.0       2.0         210.0    144.9993   -37.8024\n",
            "7      2       2.0     256.0       1.0         107.0    144.9954   -37.8060\n",
            "\n",
            "Baris Terbawah : \n",
            "\n",
            "       Rooms  Bedroom2  Landsize  Bathroom  BuildingArea  Longtitude  Lattitude\n",
            "12205      3       3.0     972.0       2.0        149.00   145.13282  -37.51232\n",
            "12206      3       3.0     179.0       1.0        115.00   144.90474  -37.86558\n",
            "12207      1       1.0       0.0       1.0         35.64   144.89936  -37.85588\n",
            "12209      2       2.0       0.0       1.0         61.60   144.99025  -37.85581\n",
            "12212      6       6.0    1087.0       3.0        388.50   144.89389  -37.81038\n"
          ]
        }
      ]
    },
    {
      "cell_type": "code",
      "metadata": {
        "colab": {
          "base_uri": "https://localhost:8080/",
          "height": 223
        },
        "id": "p7-CRHV4wQcp",
        "outputId": "7d1e84dc-139c-4be9-f177-7acff0c68fcf"
      },
      "source": [
        "home_model = DecisionTreeRegressor(random_state=1)\n",
        "\n",
        "#fit model\n",
        "home_model.fit(X,Y)\n",
        "\n",
        "#membuat prediksi\n",
        "\n",
        "predictions = home_model.predict(X)\n",
        "print(predictions)\n",
        "\n",
        "#Berfungsi untuk melihat data sebanyak n pada kolom awal (jika tidak diisi, secara random n=6).\n",
        "Y.head(6)\n",
        "X.head()"
      ],
      "execution_count": 16,
      "outputs": [
        {
          "output_type": "stream",
          "name": "stdout",
          "text": [
            "[1035000. 1465000. 1600000. ...  385000.  560000. 2450000.]\n"
          ]
        },
        {
          "output_type": "execute_result",
          "data": {
            "text/html": [
              "<div>\n",
              "<style scoped>\n",
              "    .dataframe tbody tr th:only-of-type {\n",
              "        vertical-align: middle;\n",
              "    }\n",
              "\n",
              "    .dataframe tbody tr th {\n",
              "        vertical-align: top;\n",
              "    }\n",
              "\n",
              "    .dataframe thead th {\n",
              "        text-align: right;\n",
              "    }\n",
              "</style>\n",
              "<table border=\"1\" class=\"dataframe\">\n",
              "  <thead>\n",
              "    <tr style=\"text-align: right;\">\n",
              "      <th></th>\n",
              "      <th>Rooms</th>\n",
              "      <th>Bedroom2</th>\n",
              "      <th>Landsize</th>\n",
              "      <th>Bathroom</th>\n",
              "      <th>BuildingArea</th>\n",
              "      <th>Longtitude</th>\n",
              "      <th>Lattitude</th>\n",
              "    </tr>\n",
              "  </thead>\n",
              "  <tbody>\n",
              "    <tr>\n",
              "      <th>1</th>\n",
              "      <td>2</td>\n",
              "      <td>2.0</td>\n",
              "      <td>156.0</td>\n",
              "      <td>1.0</td>\n",
              "      <td>79.0</td>\n",
              "      <td>144.9934</td>\n",
              "      <td>-37.8079</td>\n",
              "    </tr>\n",
              "    <tr>\n",
              "      <th>2</th>\n",
              "      <td>3</td>\n",
              "      <td>3.0</td>\n",
              "      <td>134.0</td>\n",
              "      <td>2.0</td>\n",
              "      <td>150.0</td>\n",
              "      <td>144.9944</td>\n",
              "      <td>-37.8093</td>\n",
              "    </tr>\n",
              "    <tr>\n",
              "      <th>4</th>\n",
              "      <td>4</td>\n",
              "      <td>3.0</td>\n",
              "      <td>120.0</td>\n",
              "      <td>1.0</td>\n",
              "      <td>142.0</td>\n",
              "      <td>144.9941</td>\n",
              "      <td>-37.8072</td>\n",
              "    </tr>\n",
              "    <tr>\n",
              "      <th>6</th>\n",
              "      <td>3</td>\n",
              "      <td>4.0</td>\n",
              "      <td>245.0</td>\n",
              "      <td>2.0</td>\n",
              "      <td>210.0</td>\n",
              "      <td>144.9993</td>\n",
              "      <td>-37.8024</td>\n",
              "    </tr>\n",
              "    <tr>\n",
              "      <th>7</th>\n",
              "      <td>2</td>\n",
              "      <td>2.0</td>\n",
              "      <td>256.0</td>\n",
              "      <td>1.0</td>\n",
              "      <td>107.0</td>\n",
              "      <td>144.9954</td>\n",
              "      <td>-37.8060</td>\n",
              "    </tr>\n",
              "  </tbody>\n",
              "</table>\n",
              "</div>"
            ],
            "text/plain": [
              "   Rooms  Bedroom2  Landsize  Bathroom  BuildingArea  Longtitude  Lattitude\n",
              "1      2       2.0     156.0       1.0          79.0    144.9934   -37.8079\n",
              "2      3       3.0     134.0       2.0         150.0    144.9944   -37.8093\n",
              "4      4       3.0     120.0       1.0         142.0    144.9941   -37.8072\n",
              "6      3       4.0     245.0       2.0         210.0    144.9993   -37.8024\n",
              "7      2       2.0     256.0       1.0         107.0    144.9954   -37.8060"
            ]
          },
          "metadata": {},
          "execution_count": 16
        }
      ]
    },
    {
      "cell_type": "code",
      "metadata": {
        "colab": {
          "base_uri": "https://localhost:8080/"
        },
        "id": "6YWJu_9vy8E-",
        "outputId": "45fd6c46-f3ee-4221-b930-de05520e0c0d"
      },
      "source": [
        "#train data\n",
        "\n",
        "train_X, val_X, train_y, val_y = train(X,Y,random_state=1)\n",
        "\n",
        "#tentukan modelnya\n",
        "\n",
        "home_model = DecisionTreeRegressor(random_state=1)\n",
        "\n",
        "#fit model dengan training data\n",
        "home_model.fit(train_X,train_y)\n",
        "\n",
        "#prediksi dengan semua obsvarsi validasi\n",
        "val_predictions = home_model.predict(val_X)\n",
        "\n",
        "#mencetak beberapa hasil prediksi teratas\n",
        "\n",
        "print(\"Top Few Validation Predictions\")\n",
        "print(val_predictions[:5])\n",
        "\n",
        "#mencetak beberapa hasil yang sebenarnya\n",
        "print(\"Top Few Actual Prices From Validation\")\n",
        "print(val_y[:5])"
      ],
      "execution_count": 19,
      "outputs": [
        {
          "output_type": "stream",
          "name": "stdout",
          "text": [
            "Top Few Validation Predictions\n",
            "[ 550000. 2400000.  920000. 2500000. 4000000.]\n",
            "Top Few Actual Prices From Validation\n",
            "6048     620000.0\n",
            "9186    2320000.0\n",
            "3991     750000.0\n",
            "5829    1120000.0\n",
            "3616    6500000.0\n",
            "Name: Price, dtype: float64\n"
          ]
        }
      ]
    },
    {
      "cell_type": "code",
      "metadata": {
        "colab": {
          "base_uri": "https://localhost:8080/"
        },
        "id": "8XzHso1b0eiA",
        "outputId": "4727b26f-d805-4e15-b115-0232b0545468"
      },
      "source": [
        "#Menghitung MAE pada validasi data\n",
        "val_mae = mae(val_y, val_predictions)\n",
        "\n",
        "print(\"MAE pada validasi data : \", val_mae)\n",
        "\n"
      ],
      "execution_count": 20,
      "outputs": [
        {
          "output_type": "stream",
          "name": "stdout",
          "text": [
            "MAE pada validasi data :  260084.8108457069\n"
          ]
        }
      ]
    },
    {
      "cell_type": "code",
      "metadata": {
        "id": "__iXwxfs1iPc"
      },
      "source": [
        "#membuat fungsi MAE\n",
        "\n",
        "def get_mae(max_leaf_nodes, train_X, val_X, train_y, val_y):\n",
        "    model = DecisionTreeRegressor(max_leaf_nodes=max_leaf_nodes, random_state=0)\n",
        "    model.fit(train_X, train_y)\n",
        "    preds_val = model.predict(val_X)\n",
        "    maes = mae(val_y, preds_val)\n",
        "    return(maes)\n"
      ],
      "execution_count": 21,
      "outputs": []
    },
    {
      "cell_type": "markdown",
      "metadata": {
        "id": "911ov95r1xUh"
      },
      "source": [
        "Tulis loop yang mencoba nilai berikut untuk max_leaf_nodes dari sekumpulan nilai yang mungkin.\n",
        "\n",
        "Panggil fungsi get_mae pada setiap nilai max_leaf_nodes. Simpan output dengan cara tertentu yang memungkinkan Anda memilih nilai max_leaf_nodes yang memberikan model paling akurat pada data Anda."
      ]
    },
    {
      "cell_type": "code",
      "metadata": {
        "colab": {
          "base_uri": "https://localhost:8080/"
        },
        "id": "QoHm_B-I1wig",
        "outputId": "4a25b080-55fd-4b6d-b36d-168c8342620c"
      },
      "source": [
        "candidate_max_leaf_nodes = [5, 25, 50, 100, 250, 500]\n",
        "\n",
        "#menggunakan fungsi loop untuk menemukan ukuran pohon ideal dari variabel diatas\n",
        "\n",
        "list_mae = []\n",
        "for leaf_nodes in candidate_max_leaf_nodes:\n",
        "    result = get_mae(leaf_nodes, train_X, val_X, train_y, val_y)\n",
        "    #print(\"Max leaf nodes: %d  \\t\\t Mean Absolute Error:  %d\" %(leaf_nodes, result))\n",
        "    list_mae.append(result)\n",
        "\n",
        "#simpan hasil dari max_leaf_nodes yang paling baik \n",
        "# Store the best value of max_leaf_nodes (itu akan menjadi 5, 25, 50, 100, 250 or 500)\n",
        "\n",
        "print(\"\\nthe best value of max_leaf_nodes :\")\n",
        "best_tree_size = candidate_max_leaf_nodes[list_mae.index(min(list_mae))] \n",
        "print(best_tree_size)\n"
      ],
      "execution_count": 22,
      "outputs": [
        {
          "output_type": "stream",
          "name": "stdout",
          "text": [
            "\n",
            "the best value of max_leaf_nodes :\n",
            "250\n"
          ]
        }
      ]
    },
    {
      "cell_type": "code",
      "metadata": {
        "colab": {
          "base_uri": "https://localhost:8080/"
        },
        "id": "ek-7Xtg_2S44",
        "outputId": "87259afd-a49d-4a7a-8bf1-3ea84fb40d4e"
      },
      "source": [
        "#membuat ukuran yang optimal\n",
        "final_model = DecisionTreeRegressor(max_leaf_nodes = best_tree_size, random_state=1)\n",
        "\n",
        "#fit final model\n",
        "final_model.fit(X, Y)\n",
        "print(\"Hasil Fit Final Model : \", final_model)\n"
      ],
      "execution_count": 23,
      "outputs": [
        {
          "output_type": "stream",
          "name": "stdout",
          "text": [
            "Hasil Fit Final Model :  DecisionTreeRegressor(ccp_alpha=0.0, criterion='mse', max_depth=None,\n",
            "                      max_features=None, max_leaf_nodes=250,\n",
            "                      min_impurity_decrease=0.0, min_impurity_split=None,\n",
            "                      min_samples_leaf=1, min_samples_split=2,\n",
            "                      min_weight_fraction_leaf=0.0, presort='deprecated',\n",
            "                      random_state=1, splitter='best')\n"
          ]
        }
      ]
    }
  ]
}