{
  "cells": [
    {
      "cell_type": "markdown",
      "metadata": {
        "id": "xwTbG0JGhppM"
      },
      "source": [
        "# EXCERCISE WITH DATASET FROM SKLEARN"
      ]
    },
    {
      "cell_type": "markdown",
      "metadata": {
        "id": "FvRqG0iYhppT"
      },
      "source": [
        "## IMPORT LIBRARY"
      ]
    },
    {
      "cell_type": "code",
      "execution_count": 70,
      "metadata": {
        "id": "dGXEt1ihhppU"
      },
      "outputs": [],
      "source": [
        "from sklearn import datasets as datasets\n",
        "from sklearn.model_selection import train_test_split\n",
        "import xgboost as xgb\n",
        "from sklearn.metrics import accuracy_score\n",
        "from sklearn.metrics import confusion_matrix\n",
        "import matplotlib.pyplot as plt\n",
        "from sklearn.metrics import ConfusionMatrixDisplay\n",
        "\n"
      ]
    },
    {
      "cell_type": "markdown",
      "metadata": {
        "id": "-N0QgmmbhppW"
      },
      "source": [
        "## IMPORT DATASET"
      ]
    },
    {
      "cell_type": "code",
      "execution_count": 71,
      "metadata": {
        "colab": {
          "base_uri": "https://localhost:8080/"
        },
        "id": "iRXCL7YghppW",
        "outputId": "efac8f6d-f461-417b-fcc9-8e847d1c74a0"
      },
      "outputs": [
        {
          "name": "stdout",
          "output_type": "stream",
          "text": [
            "178\n",
            "13\n"
          ]
        }
      ],
      "source": [
        "wine = datasets.load_wine()\n",
        "\n",
        "numSamples, numFeatures = wine.data.shape\n",
        "\n",
        "print(numSamples)\n",
        "print(numFeatures)"
      ]
    },
    {
      "cell_type": "markdown",
      "metadata": {
        "id": "wYX7bfXahppY"
      },
      "source": [
        "## XGBOOST "
      ]
    },
    {
      "cell_type": "code",
      "execution_count": 72,
      "metadata": {
        "colab": {
          "base_uri": "https://localhost:8080/"
        },
        "id": "nHq0sQoahppZ",
        "outputId": "05a9f782-211f-408f-bd8e-675a9630a9ad"
      },
      "outputs": [
        {
          "data": {
            "text/plain": [
              "(178, 13)"
            ]
          },
          "execution_count": 72,
          "metadata": {},
          "output_type": "execute_result"
        }
      ],
      "source": [
        "wine.data.shape"
      ]
    },
    {
      "cell_type": "code",
      "execution_count": 73,
      "metadata": {
        "colab": {
          "base_uri": "https://localhost:8080/"
        },
        "id": "g1XIgFxmhppa",
        "outputId": "39221bd5-2f31-4901-c1a7-edb0e44a6233"
      },
      "outputs": [
        {
          "name": "stdout",
          "output_type": "stream",
          "text": [
            "['alcohol', 'malic_acid', 'ash', 'alcalinity_of_ash', 'magnesium', 'total_phenols', 'flavanoids', 'nonflavanoid_phenols', 'proanthocyanins', 'color_intensity', 'hue', 'od280/od315_of_diluted_wines', 'proline']\n"
          ]
        }
      ],
      "source": [
        "print (wine.feature_names)"
      ]
    },
    {
      "cell_type": "code",
      "execution_count": 74,
      "metadata": {
        "colab": {
          "base_uri": "https://localhost:8080/"
        },
        "id": "ZJPMcUaQhppb",
        "outputId": "db030d83-1e82-4576-c193-06fe13f9cf21"
      },
      "outputs": [
        {
          "name": "stdout",
          "output_type": "stream",
          "text": [
            "['class_0', 'class_1', 'class_2']\n"
          ]
        }
      ],
      "source": [
        "print(list(wine.target_names))"
      ]
    },
    {
      "cell_type": "code",
      "execution_count": 75,
      "metadata": {
        "colab": {
          "base_uri": "https://localhost:8080/"
        },
        "id": "9m91uk33hppc",
        "outputId": "51c9aaee-69cb-43ab-e477-b9a2849a6443"
      },
      "outputs": [
        {
          "data": {
            "text/plain": [
              "array([[1.423e+01, 1.710e+00, 2.430e+00, ..., 1.040e+00, 3.920e+00,\n",
              "        1.065e+03],\n",
              "       [1.320e+01, 1.780e+00, 2.140e+00, ..., 1.050e+00, 3.400e+00,\n",
              "        1.050e+03],\n",
              "       [1.316e+01, 2.360e+00, 2.670e+00, ..., 1.030e+00, 3.170e+00,\n",
              "        1.185e+03],\n",
              "       ...,\n",
              "       [1.327e+01, 4.280e+00, 2.260e+00, ..., 5.900e-01, 1.560e+00,\n",
              "        8.350e+02],\n",
              "       [1.317e+01, 2.590e+00, 2.370e+00, ..., 6.000e-01, 1.620e+00,\n",
              "        8.400e+02],\n",
              "       [1.413e+01, 4.100e+00, 2.740e+00, ..., 6.100e-01, 1.600e+00,\n",
              "        5.600e+02]])"
            ]
          },
          "execution_count": 75,
          "metadata": {},
          "output_type": "execute_result"
        }
      ],
      "source": [
        "wine['data']"
      ]
    },
    {
      "cell_type": "code",
      "execution_count": 76,
      "metadata": {
        "id": "ofp1jRFphppd"
      },
      "outputs": [],
      "source": [
        "X_train, X_test, y_train, y_test = train_test_split(wine.data, wine.target, test_size=0.2, random_state=0)"
      ]
    },
    {
      "cell_type": "code",
      "execution_count": 77,
      "metadata": {
        "id": "19aY7bQdhppd"
      },
      "outputs": [],
      "source": [
        "train = xgb.DMatrix(X_train, label=y_train)\n",
        "test = xgb.DMatrix(X_test, label=y_test)"
      ]
    },
    {
      "cell_type": "code",
      "execution_count": 78,
      "metadata": {
        "id": "DWV1fbekhppe"
      },
      "outputs": [],
      "source": [
        "#tentukan hyperparametersnya\n",
        "#kasus multipleclassifications ==> softmax\n",
        "#lainnya : melalui percobaan\n",
        "\n",
        "param = {\n",
        "   'max_depth' :4,\t\t          \t#dalamnya tree\n",
        "   'eta':0.3,\t\t\t              \t#learning rate\n",
        "   'objective' : 'multi:softmax',\t#dipakai untuk kasus multiple class\n",
        "   'eval_metric':'mlogloss',\n",
        "   'num_class':3}\t\t            \t#3 jenis target, sesuai jenis class, 0, 1, 2\n",
        "epochs = 10  #jumlah iterasi "
      ]
    },
    {
      "cell_type": "code",
      "execution_count": 79,
      "metadata": {
        "id": "SGy7r1K4hppf"
      },
      "outputs": [],
      "source": [
        "#latih/train model dengan param ini sebagai awal percobaan\n",
        "\n",
        "model = xgb.train(param, train, epochs)\n"
      ]
    },
    {
      "cell_type": "code",
      "execution_count": 80,
      "metadata": {
        "colab": {
          "base_uri": "https://localhost:8080/"
        },
        "id": "QUtUNp2chppf",
        "outputId": "bf1971f8-1e13-46b8-bf65-32d451488a0a"
      },
      "outputs": [
        {
          "name": "stdout",
          "output_type": "stream",
          "text": [
            "[0. 2. 1. 0. 1. 0. 0. 2. 1. 1. 2. 2. 0. 1. 2. 1. 0. 0. 2. 0. 1. 0. 0. 1.\n",
            " 1. 1. 1. 1. 1. 2. 0. 0. 1. 0. 0. 0.]\n"
          ]
        }
      ],
      "source": [
        "#gunakan model yang telah dilatih untuk memprediksi dengan data test yang telah kita simpan (20%)\n",
        "\n",
        "predictions = model.predict(test)\n",
        "print(predictions)\n"
      ]
    },
    {
      "cell_type": "code",
      "execution_count": 81,
      "metadata": {
        "colab": {
          "base_uri": "https://localhost:8080/"
        },
        "id": "RHmFUeTGhppg",
        "outputId": "f626cd38-c9eb-4cfa-f3c7-d22c1aab99c4"
      },
      "outputs": [
        {
          "data": {
            "text/plain": [
              "0.9444444444444444"
            ]
          },
          "execution_count": 81,
          "metadata": {},
          "output_type": "execute_result"
        }
      ],
      "source": [
        "#cek akurasi hasil data test tadi.... membandingkan y_test (label sebenarnya) dengan hasil prediksi dengan model\n",
        "\n",
        "accuracy_score(y_test, predictions)\n"
      ]
    },
    {
      "cell_type": "code",
      "execution_count": 82,
      "metadata": {
        "colab": {
          "base_uri": "https://localhost:8080/"
        },
        "id": "XSpWK0m1hpph",
        "outputId": "bef03a1a-2afc-434e-deff-bad5cf666363"
      },
      "outputs": [
        {
          "name": "stdout",
          "output_type": "stream",
          "text": [
            "[[14  0  0]\n",
            " [ 1 14  1]\n",
            " [ 0  0  6]]\n"
          ]
        }
      ],
      "source": [
        "cm=confusion_matrix(y_test, predictions)\n",
        "print(cm)"
      ]
    },
    {
      "cell_type": "code",
      "execution_count": 83,
      "metadata": {
        "colab": {
          "base_uri": "https://localhost:8080/",
          "height": 283
        },
        "id": "bmoJ6Cvthppi",
        "outputId": "f3b73e9e-baf6-433a-f5a4-f78635873751"
      },
      "outputs": [
        {
          "data": {
            "image/png": "[encoded data removed]",
            "text/plain": [
              "<Figure size 432x288 with 2 Axes>"
            ]
          },
          "metadata": {
            "needs_background": "light"
          },
          "output_type": "display_data"
        }
      ],
      "source": [
        "disp = ConfusionMatrixDisplay(confusion_matrix=cm,\n",
        "\t\t\t       display_labels=y_test)\n",
        "disp.plot()\n",
        "plt.show()"
      ]
    }
  ],
  "metadata": {
    "colab": {
      "name": "Tugas Week 7_XGBoost.ipynb",
      "provenance": []
    },
    "interpreter": {
      "hash": "d6f86c6bc9c9469b2c84cfe0cb33110478d210a1f255f386dfb189826f594413"
    },
    "kernelspec": {
      "display_name": "Python 3.7.11 64-bit ('machinelearning': conda)",
      "language": "python",
      "name": "python3"
    },
    "language_info": {
      "codemirror_mode": {
        "name": "ipython",
        "version": 3
      },
      "file_extension": ".py",
      "mimetype": "text/x-python",
      "name": "python",
      "nbconvert_exporter": "python",
      "pygments_lexer": "ipython3",
      "version": "3.7.11"
    },
    "orig_nbformat": 4
  },
  "nbformat": 4,
  "nbformat_minor": 0
}
